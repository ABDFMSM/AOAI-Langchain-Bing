{
 "cells": [
  {
   "cell_type": "code",
   "execution_count": 1,
   "id": "2883244c-bec6-4181-bdaf-b4f36d912f00",
   "metadata": {},
   "outputs": [],
   "source": [
    "import os\n",
    "from dotenv import load_dotenv\n",
    "from langchain_community.utilities import BingSearchAPIWrapper\n",
    "from langchain.tools import Tool\n",
    "from langchain_openai import AzureChatOpenAI\n",
    "from langchain.agents import AgentExecutor, create_openai_tools_agent\n",
    "from langchain_core.messages import SystemMessage\n",
    "from langchain_core.prompts.chat import ChatPromptTemplate, HumanMessagePromptTemplate, MessagesPlaceholder\n",
    "from langchain.memory import ConversationBufferWindowMemory\n",
    "from bs4 import BeautifulSoup\n",
    "import requests\n",
    "from datetime import datetime  # Added datetime and pytz to use local library to answer questions regarding time. \n",
    "import pytz  "
   ]
  },
  {
   "cell_type": "code",
   "execution_count": 2,
   "id": "ced3e888-5ac4-4e80-8670-8c317bb23ee7",
   "metadata": {},
   "outputs": [],
   "source": [
    "# Loading the environmental variables and creating an instance of the BingSearch \n",
    "load_dotenv()\n",
    "search = BingSearchAPIWrapper()"
   ]
  },
  {
   "cell_type": "code",
   "execution_count": 3,
   "id": "36bb1210-230e-4ecd-a6a3-2189dd394341",
   "metadata": {},
   "outputs": [],
   "source": [
    "# The bingsearch snippet doesn't always provide enough information.\n",
    "# I am getting the whole webpage content to feed it to the GPT to answer user's questions. \n",
    "def web_content(query):\n",
    "    \"\"\"\n",
    "    This tool is used to return the WebPage contents and can be used to answer user's questions. \n",
    "    \"\"\"\n",
    "    headers = {'user-agent':'Mozilla/5.0 (Windows NT 6.3; Win64; x64) AppleWebKit/537.36 (KHTML, like Gecko) Chrome/86.0.4240.193 Safari/537.36'}\n",
    "    results = search.results(query, 3) #Number of webpages to check and return content. \n",
    "    links = []\n",
    "    contents = []\n",
    "    for result in results: \n",
    "        #Some pages don't return expected result so we use a try except method to avoid getting an errors. \n",
    "        try:\n",
    "            webpage = requests.get(result['link'], headers)\n",
    "            soup = BeautifulSoup(webpage.content, 'html.parser')\n",
    "            text = soup.find('body').get_text().strip()\n",
    "            cleaned_text = ' '.join(text.split('\\n'))\n",
    "            cleaned_text = ' '.join(text.split())\n",
    "            contents.append(cleaned_text)\n",
    "            links.append(result['link'])\n",
    "        except:\n",
    "            continue\n",
    "    return contents, links"
   ]
  },
  {
   "cell_type": "code",
   "execution_count": 4,
   "id": "16b312a0-d81f-4682-bf37-7eba175db399",
   "metadata": {},
   "outputs": [],
   "source": [
    "# Function to return the current time for a given time zone\n",
    "def get_time(timezone):  \n",
    "    try:  \n",
    "        # Create a timezone object using pytz  \n",
    "        tz = pytz.timezone(timezone)  \n",
    "          \n",
    "        # Get the current time in that timezone  \n",
    "        current_time = datetime.now(tz)  \n",
    "          \n",
    "        # Format the time to a string if necessary  \n",
    "        time_str = current_time.strftime('%Y-%m-%d %H:%M:%S %Z%z')  \n",
    "          \n",
    "        return time_str  \n",
    "    except pytz.exceptions.UnknownTimeZoneError:  \n",
    "        return \"Unknown timezone. Please provide a valid timezone.\"  "
   ]
  },
  {
   "cell_type": "code",
   "execution_count": 5,
   "id": "d8c4e451-d280-446b-91f1-19f738b110e1",
   "metadata": {},
   "outputs": [],
   "source": [
    "# Function to return weather information about a given city. \n",
    "# Get the API key by creating an account here: \n",
    "def get_weather(city_name):   \n",
    "\n",
    "    base_url = \"http://api.weatherapi.com/v1/current.json\"  \n",
    "    api_key = os.getenv(\"Weather_API\")\n",
    "    complete_url = f\"{base_url}?key={api_key}&q={city_name}\"  \n",
    "  \n",
    "    response = requests.get(complete_url)  \n",
    "  \n",
    "    # Check if the request was successful  \n",
    "    if response.status_code == 200:  \n",
    "        weather_data = response.json()  \n",
    "        return weather_data  \n",
    "    else:  \n",
    "        return \"Failed to get weather data.\"  "
   ]
  },
  {
   "cell_type": "code",
   "execution_count": 6,
   "id": "9c20a2c9-b4ec-4c04-affa-8374e5b410e9",
   "metadata": {},
   "outputs": [],
   "source": [
    "# Configuring the prompt, memeory, and LLM for the chatbot \n",
    "prompt = ChatPromptTemplate.from_messages(\n",
    "    [\n",
    "        SystemMessage(\n",
    "            content=\"\"\"You are an AI assistance who can access the internet through bing_search tool and to time information via check_time tool. \n",
    "            The bing_search tool will return the webpage content that contains information that you can use to answer user's question. \n",
    "            Whenever asked about time and date use the check_time tool and for weather related questions use check_weather tool and just provide a short answer. \n",
    "            For other questions provide a max of one paragraph unless instructed otherwise.\n",
    "            If you get blocked or access deny, try another query for the bing_search tool to get access to a different website.\n",
    "            Talk a bit to the user while grabbing the result. \n",
    "            Always provide the link in the following format. \"\\nUsed this link: {link} to answer your question. \n",
    "            \"\"\"\n",
    "        ),  # The persistent system prompt\n",
    "        MessagesPlaceholder(\n",
    "            variable_name=\"chat_history\"\n",
    "        ),  # Where the memory will be stored.\n",
    "        MessagesPlaceholder(\n",
    "            variable_name='agent_scratchpad'\n",
    "        ),  # where tools are loaded for intermediate steps.\n",
    "        HumanMessagePromptTemplate.from_template(\n",
    "            \"{input}\"\n",
    "        ),  # Where the human input will injected\n",
    "    ]\n",
    ")\n",
    "memory = ConversationBufferWindowMemory(memory_key=\"chat_history\", return_messages=True, k= 8) #Chat memory window that keeps k messages. \n",
    "llm = AzureChatOpenAI(azure_deployment=os.getenv(\"Chat_deployment\"), streaming=True)"
   ]
  },
  {
   "cell_type": "code",
   "execution_count": 8,
   "id": "ab06c4e7-47e7-494b-8a3e-295bc2b58cac",
   "metadata": {},
   "outputs": [],
   "source": [
    "# Converting the functions to tools to be used for the langchian agent\n",
    "tool = Tool(\n",
    "    name=\"bing_search\",\n",
    "    description=\"Search Bing for recent results.\",\n",
    "    func=web_content\n",
    ")\n",
    "\n",
    "tool2 = Tool(\n",
    "    name=\"check_time\",\n",
    "    description=\"Used to return country's time\",\n",
    "    func=get_time\n",
    ")\n",
    "\n",
    "tool3 = Tool(\n",
    "    name=\"check_weather\", \n",
    "    description=\"Used to find weather information about a city\", \n",
    "    func=get_weather\n",
    ")"
   ]
  },
  {
   "cell_type": "code",
   "execution_count": 9,
   "id": "5b2560ac-a4a9-4bfc-a420-e30c656d00da",
   "metadata": {},
   "outputs": [],
   "source": [
    "# Creating the langchain agent: \n",
    "agent = create_openai_tools_agent(llm, [tool], prompt)\n",
    "agent_executor = AgentExecutor(\n",
    "    agent=agent,\n",
    "    tools=[tool, tool2, tool3],\n",
    "    verbose=True, #Set to true to view the thought process in the AOAI model.\n",
    "    memory=memory,\n",
    "    max_iterations= 8 # Number of tries to retrieve data before exiting agent. \n",
    ")"
   ]
  },
  {
   "cell_type": "code",
   "execution_count": null,
   "id": "39e5504f-5c3d-4009-8d6f-01806180017f",
   "metadata": {},
   "outputs": [
    {
     "name": "stdin",
     "output_type": "stream",
     "text": [
      "What do you like to ask?\n",
      " What is the current time in Amman? \n"
     ]
    },
    {
     "name": "stdout",
     "output_type": "stream",
     "text": [
      "\n",
      "\n",
      "\u001b[1m> Entering new AgentExecutor chain...\u001b[0m\n",
      "\u001b[32;1m\u001b[1;3m\n",
      "Invoking: `check_time` with `{'timezone': 'Asia/Amman'}`\n",
      "\n",
      "\n",
      "\u001b[0m\u001b[33;1m\u001b[1;3m2024-03-28 09:39:58 +03+0300\u001b[0m\u001b[32;1m\u001b[1;3mThe current time in Amman is 9:39 AM on March 28, 2024.\u001b[0m\n",
      "\n",
      "\u001b[1m> Finished chain.\u001b[0m\n",
      "The current time in Amman is 9:39 AM on March 28, 2024.\n"
     ]
    },
    {
     "name": "stdin",
     "output_type": "stream",
     "text": [
      "\n",
      "Do you have other queries you would like to know about? if not type exit to end the chat.\n",
      " What is the weather there? \n"
     ]
    },
    {
     "name": "stdout",
     "output_type": "stream",
     "text": [
      "\n",
      "\n",
      "\u001b[1m> Entering new AgentExecutor chain...\u001b[0m\n",
      "\u001b[32;1m\u001b[1;3m\n",
      "Invoking: `check_weather` with `{'location': 'Amman'}`\n",
      "\n",
      "\n",
      "\u001b[0m\u001b[38;5;200m\u001b[1;3m{'location': {'name': 'Amman', 'region': 'Amman Governorate', 'country': 'Jordan', 'lat': 31.95, 'lon': 35.93, 'tz_id': 'Asia/Amman', 'localtime_epoch': 1711607909, 'localtime': '2024-03-28 9:38'}, 'current': {'last_updated_epoch': 1711607400, 'last_updated': '2024-03-28 09:30', 'temp_c': 20.0, 'temp_f': 68.0, 'is_day': 1, 'condition': {'text': 'Mist', 'icon': '//cdn.weatherapi.com/weather/64x64/day/143.png', 'code': 1030}, 'wind_mph': 2.2, 'wind_kph': 3.6, 'wind_degree': 171, 'wind_dir': 'S', 'pressure_mb': 1021.0, 'pressure_in': 30.15, 'precip_mm': 0.0, 'precip_in': 0.0, 'humidity': 37, 'cloud': 0, 'feelslike_c': 20.0, 'feelslike_f': 68.0, 'vis_km': 5.0, 'vis_miles': 3.0, 'uv': 6.0, 'gust_mph': 5.3, 'gust_kph': 8.5}}\u001b[0m\u001b[32;1m\u001b[1;3mThe current weather in Amman is misty with a temperature of 20.0°C (68.0°F). The wind is coming from the south at 3.6 kph (2.2 mph), and the visibility is around 5 km (3 miles). The humidity is at 37%, and there is no precipitation at the moment. The UV index is at 6. Overall, it seems like a mild and somewhat misty day in Amman.\u001b[0m\n",
      "\n",
      "\u001b[1m> Finished chain.\u001b[0m\n",
      "The current weather in Amman is misty with a temperature of 20.0°C (68.0°F). The wind is coming from the south at 3.6 kph (2.2 mph), and the visibility is around 5 km (3 miles). The humidity is at 37%, and there is no precipitation at the moment. The UV index is at 6. Overall, it seems like a mild and somewhat misty day in Amman.\n"
     ]
    }
   ],
   "source": [
    "def main():\n",
    "    question = input(\"What do you like to ask?\\n\")\n",
    "    while \"exit\" not in question.lower():  \n",
    "        answer = agent_executor.invoke({\"input\": question})\n",
    "        print(answer['output'])  \n",
    "        question = input(\"\\nDo you have other queries you would like to know about? if not type exit to end the chat.\\n\")  \n",
    "    print(memory.load_memory_variables({})) #print the chat history. \n",
    "\n",
    "if __name__ == \"__main__\":\n",
    "    main()"
   ]
  },
  {
   "cell_type": "code",
   "execution_count": null,
   "id": "513128a6-2ef3-465e-a7fa-06e4aba3b9cc",
   "metadata": {},
   "outputs": [],
   "source": []
  }
 ],
 "metadata": {
  "kernelspec": {
   "display_name": "Python 3 (ipykernel)",
   "language": "python",
   "name": "python3"
  },
  "language_info": {
   "codemirror_mode": {
    "name": "ipython",
    "version": 3
   },
   "file_extension": ".py",
   "mimetype": "text/x-python",
   "name": "python",
   "nbconvert_exporter": "python",
   "pygments_lexer": "ipython3",
   "version": "3.11.8"
  }
 },
 "nbformat": 4,
 "nbformat_minor": 5
}
